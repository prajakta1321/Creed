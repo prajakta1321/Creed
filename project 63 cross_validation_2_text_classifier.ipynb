{
  "nbformat": 4,
  "nbformat_minor": 0,
  "metadata": {
    "colab": {
      "provenance": []
    },
    "kernelspec": {
      "name": "python3",
      "display_name": "Python 3"
    },
    "language_info": {
      "name": "python"
    }
  },
  "cells": [
    {
      "cell_type": "code",
      "execution_count": 1,
      "metadata": {
        "id": "LzAlOJLN_xAy"
      },
      "outputs": [],
      "source": [
        "from sklearn.pipeline import Pipeline\n",
        "from sklearn.svm import SVC\n",
        "from sklearn.feature_extraction.text import TfidfVectorizer\n",
        "from sklearn.model_selection import cross_val_score\n",
        "from sklearn.model_selection import StratifiedKFold\n",
        "import pandas as pd"
      ]
    },
    {
      "cell_type": "code",
      "source": [
        "data = [\n",
        "    (\"Fantastic for dental health.\", \"pos\"),\n",
        "    (\"Complete disappointment, a waste of resources.\" , \"neg\"),\n",
        "    (\"And the sound quality is great.\", \"pos\"),\n",
        "    (\"The advertisements are incredibly deceptive.\", \"neg\"),\n",
        "    (\"The commercials are the most misleading.\", \"neg\"),\n",
        "    (\"Fails to retain battery power.\", \"neg\"),\n",
        "    (\"It has kept up very well.\", \"pos\"),\n",
        "]"
      ],
      "metadata": {
        "id": "N5rP3eaIHnhj"
      },
      "execution_count": 2,
      "outputs": []
    },
    {
      "cell_type": "code",
      "source": [
        "df = pd.DataFrame(data, columns=['text','label'])\n",
        "\n",
        "X, y = df.text, df.label"
      ],
      "metadata": {
        "id": "JQjDub-GIJeO"
      },
      "execution_count": 3,
      "outputs": []
    },
    {
      "cell_type": "code",
      "source": [
        "pipe = Pipeline(\n",
        "    [\n",
        "        (\"vectorizer\", TfidfVectorizer()),\n",
        "        (\"classifier\", SVC(probability=True, random_state=42)),\n",
        "    ],\n",
        "    verbose=True,\n",
        ")"
      ],
      "metadata": {
        "id": "RCSS_rV8IQFz"
      },
      "execution_count": 4,
      "outputs": []
    },
    {
      "cell_type": "code",
      "source": [
        "n_splits = 2\n",
        "cv = StratifiedKFold(n_splits=n_splits, random_state=42, shuffle=True)\n",
        "\n",
        "scoring = \"accuracy\""
      ],
      "metadata": {
        "id": "nJNrfxbfIRPJ"
      },
      "execution_count": 5,
      "outputs": []
    },
    {
      "cell_type": "code",
      "source": [
        "scores = cross_val_score(pipe, X, y, scoring=scoring, cv=cv)\n",
        "print(f\"{scoring}: %0.2f (+/- %0.2f)\" % (scores.mean(), scores.std() * 2))"
      ],
      "metadata": {
        "colab": {
          "base_uri": "https://localhost:8080/"
        },
        "id": "1bz3NnmeIXPe",
        "outputId": "d0307bc7-d149-4bd6-d7ef-03f74af77c18"
      },
      "execution_count": 6,
      "outputs": [
        {
          "output_type": "stream",
          "name": "stdout",
          "text": [
            "[Pipeline] ........ (step 1 of 2) Processing vectorizer, total=   0.0s\n",
            "[Pipeline] ........ (step 2 of 2) Processing classifier, total=   0.0s\n",
            "[Pipeline] ........ (step 1 of 2) Processing vectorizer, total=   0.0s\n",
            "[Pipeline] ........ (step 2 of 2) Processing classifier, total=   0.0s\n",
            "accuracy: 0.25 (+/- 0.50)\n"
          ]
        }
      ]
    }
  ]
}