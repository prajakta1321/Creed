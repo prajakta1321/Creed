{
  "nbformat": 4,
  "nbformat_minor": 0,
  "metadata": {
    "colab": {
      "provenance": []
    },
    "kernelspec": {
      "name": "python3",
      "display_name": "Python 3"
    },
    "language_info": {
      "name": "python"
    }
  },
  "cells": [
    {
      "cell_type": "code",
      "execution_count": 20,
      "metadata": {
        "id": "6HsgZuM39YaZ"
      },
      "outputs": [],
      "source": [
        "# Least Absolute Shrinkage and Selection Operator (LASSO)"
      ]
    },
    {
      "cell_type": "markdown",
      "source": [
        "Regression is a statistical process that seeks to estimate the relationships among variables.\n",
        "\n",
        "Regression models aim to construct a best-fit line or curve, known as a regression line, through data points in a manner that minimizes the overall distance between the data points and the line itself. This ‘distance’ is often referred to as an error or residual.\n",
        "\n",
        "\n",
        "The objective of any regression model is to minimize the sum of these residuals, thereby maximizing the predictive accuracy of the model.\n",
        "\n",
        "\n",
        "In the context of data science, regression models are used to forecast outcomes, test hypotheses, or determine relationships among variables.\n",
        "\n",
        "Regression models yield continuous or numerical outputs.\n",
        "\n",
        "Regression models use metrics such as Mean Absolute Error (MAE), Mean Squared Error (MSE), Root Mean Squared Error (RMSE), and R-squared. These metrics essentially measure the difference between the actual and predicted numerical values.\n",
        "\n",
        "Regression models predict a numerical value based on input features, and therefore do not require a decision boundary.\n",
        "\n"
      ],
      "metadata": {
        "id": "eIuPE453-bNL"
      }
    },
    {
      "cell_type": "code",
      "source": [
        "import pandas as pd\n",
        "from sklearn.model_selection import train_test_split\n",
        "from sklearn.linear_model import LinearRegression\n",
        "from sklearn import metrics"
      ],
      "metadata": {
        "id": "cTN7bDHG_cOt"
      },
      "execution_count": 1,
      "outputs": []
    },
    {
      "cell_type": "code",
      "source": [
        "df = pd.read_csv('student-mat.csv')\n",
        "print(df.head(4))"
      ],
      "metadata": {
        "colab": {
          "base_uri": "https://localhost:8080/"
        },
        "id": "l6nO4AX__g0q",
        "outputId": "c38289f7-f55a-46be-c435-0ba65c126eda"
      },
      "execution_count": 3,
      "outputs": [
        {
          "output_type": "stream",
          "name": "stdout",
          "text": [
            "  school sex  age address famsize Pstatus  Medu  Fedu     Mjob      Fjob  ...  \\\n",
            "0     GP   F   18       U     GT3       A     4     4  at_home   teacher  ...   \n",
            "1     GP   F   17       U     GT3       T     1     1  at_home     other  ...   \n",
            "2     GP   F   15       U     LE3       T     1     1  at_home     other  ...   \n",
            "3     GP   F   15       U     GT3       T     4     2   health  services  ...   \n",
            "\n",
            "  famrel freetime  goout  Dalc  Walc health absences  G1  G2  G3  \n",
            "0      4        3      4     1     1      3        6   5   6   6  \n",
            "1      5        3      3     1     1      3        4   5   5   6  \n",
            "2      4        3      2     2     3      3       10   7   8  10  \n",
            "3      3        2      2     1     1      5        2  15  14  15  \n",
            "\n",
            "[4 rows x 33 columns]\n"
          ]
        }
      ]
    },
    {
      "cell_type": "code",
      "source": [
        "X = df['G1'].values.reshape(-1,1)\n",
        "y = df['absences'].values.reshape(-1,1)"
      ],
      "metadata": {
        "id": "lZuoQbrX_10M"
      },
      "execution_count": 7,
      "outputs": []
    },
    {
      "cell_type": "code",
      "source": [
        "X_train, X_test, y_train, y_test = train_test_split(X, y, test_size=0.2, random_state=0)"
      ],
      "metadata": {
        "id": "b6yDw7_QAPSM"
      },
      "execution_count": 8,
      "outputs": []
    },
    {
      "cell_type": "markdown",
      "source": [
        "Lasso Regression, an acronym for Least Absolute Shrinkage and Selection Operator, is a type of linear regression that uses a technique called regularization to improve the model’s predictability and interpretability.\n",
        "\n",
        "Lasso regression starts by calculating the sum of squared residuals. However, Lasso regression adds a penalty term (lambda) to this calculation to discourage the coefficients of the independent variables from getting too large.\n",
        "\n",
        "![image.png](data:image/png;base64,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)"
      ],
      "metadata": {
        "id": "lcxs2SiuAYW2"
      }
    },
    {
      "cell_type": "markdown",
      "source": [
        "where:\n",
        "\n",
        "yi is the ith value of the variable we want to predict.\n",
        "β0 is the y-intercept.\n",
        "βj is the coefficient for the jth predictor variable xij.\n",
        "λ is the regularization parameter."
      ],
      "metadata": {
        "id": "AnQ2zAQ8AsHh"
      }
    },
    {
      "cell_type": "markdown",
      "source": [
        "Lasso regression addresses overfitting through its regularization term. By adding a penalty for large coefficients, Lasso regression discourages the model from relying too heavily on any one feature, promoting a more generalized model."
      ],
      "metadata": {
        "id": "OqZ_DmZCAz-s"
      }
    },
    {
      "cell_type": "code",
      "source": [
        "from sklearn.linear_model import Lasso"
      ],
      "metadata": {
        "id": "F8-36DeUA39i"
      },
      "execution_count": 9,
      "outputs": []
    },
    {
      "cell_type": "code",
      "source": [
        "lasso = Lasso(alpha=0.5)\n",
        "# set the regularization parameter\n",
        "lasso.fit(X_train, y_train)"
      ],
      "metadata": {
        "colab": {
          "base_uri": "https://localhost:8080/",
          "height": 74
        },
        "id": "n_tLCYclA8sz",
        "outputId": "4878cacb-c220-4f3d-b4f1-48a7b37118dd"
      },
      "execution_count": 13,
      "outputs": [
        {
          "output_type": "execute_result",
          "data": {
            "text/plain": [
              "Lasso(alpha=0.5)"
            ],
            "text/html": [
              "<style>#sk-container-id-2 {color: black;background-color: white;}#sk-container-id-2 pre{padding: 0;}#sk-container-id-2 div.sk-toggleable {background-color: white;}#sk-container-id-2 label.sk-toggleable__label {cursor: pointer;display: block;width: 100%;margin-bottom: 0;padding: 0.3em;box-sizing: border-box;text-align: center;}#sk-container-id-2 label.sk-toggleable__label-arrow:before {content: \"▸\";float: left;margin-right: 0.25em;color: #696969;}#sk-container-id-2 label.sk-toggleable__label-arrow:hover:before {color: black;}#sk-container-id-2 div.sk-estimator:hover label.sk-toggleable__label-arrow:before {color: black;}#sk-container-id-2 div.sk-toggleable__content {max-height: 0;max-width: 0;overflow: hidden;text-align: left;background-color: #f0f8ff;}#sk-container-id-2 div.sk-toggleable__content pre {margin: 0.2em;color: black;border-radius: 0.25em;background-color: #f0f8ff;}#sk-container-id-2 input.sk-toggleable__control:checked~div.sk-toggleable__content {max-height: 200px;max-width: 100%;overflow: auto;}#sk-container-id-2 input.sk-toggleable__control:checked~label.sk-toggleable__label-arrow:before {content: \"▾\";}#sk-container-id-2 div.sk-estimator input.sk-toggleable__control:checked~label.sk-toggleable__label {background-color: #d4ebff;}#sk-container-id-2 div.sk-label input.sk-toggleable__control:checked~label.sk-toggleable__label {background-color: #d4ebff;}#sk-container-id-2 input.sk-hidden--visually {border: 0;clip: rect(1px 1px 1px 1px);clip: rect(1px, 1px, 1px, 1px);height: 1px;margin: -1px;overflow: hidden;padding: 0;position: absolute;width: 1px;}#sk-container-id-2 div.sk-estimator {font-family: monospace;background-color: #f0f8ff;border: 1px dotted black;border-radius: 0.25em;box-sizing: border-box;margin-bottom: 0.5em;}#sk-container-id-2 div.sk-estimator:hover {background-color: #d4ebff;}#sk-container-id-2 div.sk-parallel-item::after {content: \"\";width: 100%;border-bottom: 1px solid gray;flex-grow: 1;}#sk-container-id-2 div.sk-label:hover label.sk-toggleable__label {background-color: #d4ebff;}#sk-container-id-2 div.sk-serial::before {content: \"\";position: absolute;border-left: 1px solid gray;box-sizing: border-box;top: 0;bottom: 0;left: 50%;z-index: 0;}#sk-container-id-2 div.sk-serial {display: flex;flex-direction: column;align-items: center;background-color: white;padding-right: 0.2em;padding-left: 0.2em;position: relative;}#sk-container-id-2 div.sk-item {position: relative;z-index: 1;}#sk-container-id-2 div.sk-parallel {display: flex;align-items: stretch;justify-content: center;background-color: white;position: relative;}#sk-container-id-2 div.sk-item::before, #sk-container-id-2 div.sk-parallel-item::before {content: \"\";position: absolute;border-left: 1px solid gray;box-sizing: border-box;top: 0;bottom: 0;left: 50%;z-index: -1;}#sk-container-id-2 div.sk-parallel-item {display: flex;flex-direction: column;z-index: 1;position: relative;background-color: white;}#sk-container-id-2 div.sk-parallel-item:first-child::after {align-self: flex-end;width: 50%;}#sk-container-id-2 div.sk-parallel-item:last-child::after {align-self: flex-start;width: 50%;}#sk-container-id-2 div.sk-parallel-item:only-child::after {width: 0;}#sk-container-id-2 div.sk-dashed-wrapped {border: 1px dashed gray;margin: 0 0.4em 0.5em 0.4em;box-sizing: border-box;padding-bottom: 0.4em;background-color: white;}#sk-container-id-2 div.sk-label label {font-family: monospace;font-weight: bold;display: inline-block;line-height: 1.2em;}#sk-container-id-2 div.sk-label-container {text-align: center;}#sk-container-id-2 div.sk-container {/* jupyter's `normalize.less` sets `[hidden] { display: none; }` but bootstrap.min.css set `[hidden] { display: none !important; }` so we also need the `!important` here to be able to override the default hidden behavior on the sphinx rendered scikit-learn.org. See: https://github.com/scikit-learn/scikit-learn/issues/21755 */display: inline-block !important;position: relative;}#sk-container-id-2 div.sk-text-repr-fallback {display: none;}</style><div id=\"sk-container-id-2\" class=\"sk-top-container\"><div class=\"sk-text-repr-fallback\"><pre>Lasso(alpha=0.5)</pre><b>In a Jupyter environment, please rerun this cell to show the HTML representation or trust the notebook. <br />On GitHub, the HTML representation is unable to render, please try loading this page with nbviewer.org.</b></div><div class=\"sk-container\" hidden><div class=\"sk-item\"><div class=\"sk-estimator sk-toggleable\"><input class=\"sk-toggleable__control sk-hidden--visually\" id=\"sk-estimator-id-2\" type=\"checkbox\" checked><label for=\"sk-estimator-id-2\" class=\"sk-toggleable__label sk-toggleable__label-arrow\">Lasso</label><div class=\"sk-toggleable__content\"><pre>Lasso(alpha=0.5)</pre></div></div></div></div></div>"
            ]
          },
          "metadata": {},
          "execution_count": 13
        }
      ]
    },
    {
      "cell_type": "code",
      "source": [
        "y_pred = lasso.predict(X_test)"
      ],
      "metadata": {
        "id": "fheSZHCXBDN5"
      },
      "execution_count": 14,
      "outputs": []
    },
    {
      "cell_type": "code",
      "source": [
        "print(lasso.coef_)"
      ],
      "metadata": {
        "colab": {
          "base_uri": "https://localhost:8080/"
        },
        "id": "Wr_6q687BHcJ",
        "outputId": "0f801185-9351-432e-f567-ce1814ddc7c9"
      },
      "execution_count": 15,
      "outputs": [
        {
          "output_type": "stream",
          "name": "stdout",
          "text": [
            "[-0.06560237]\n"
          ]
        }
      ]
    },
    {
      "cell_type": "markdown",
      "source": [
        "The coefficients represent the change in the grade for each one-unit change in the corresponding feature, taking into account the penalty term that we added. A coefficient of zero means that the corresponding feature was not selected by the model."
      ],
      "metadata": {
        "id": "jCMecLgNBRIg"
      }
    },
    {
      "cell_type": "code",
      "source": [
        "print('Mean Absolute Error:', metrics.mean_absolute_error(y_test, y_pred))"
      ],
      "metadata": {
        "colab": {
          "base_uri": "https://localhost:8080/"
        },
        "id": "SnfmwxadBUmr",
        "outputId": "20cecb3a-f9c7-4c6b-e88b-a17961a6ec0e"
      },
      "execution_count": 16,
      "outputs": [
        {
          "output_type": "stream",
          "name": "stdout",
          "text": [
            "Mean Absolute Error: 5.759676817942001\n"
          ]
        }
      ]
    },
    {
      "cell_type": "code",
      "source": [
        "print('Mean Squared Error:', metrics.mean_squared_error(y_test, y_pred))"
      ],
      "metadata": {
        "colab": {
          "base_uri": "https://localhost:8080/"
        },
        "id": "boR_QH80Bdph",
        "outputId": "7c4c3460-365b-41b9-cc85-6d743112bce2"
      },
      "execution_count": 17,
      "outputs": [
        {
          "output_type": "stream",
          "name": "stdout",
          "text": [
            "Mean Squared Error: 117.58407159276702\n"
          ]
        }
      ]
    },
    {
      "cell_type": "code",
      "source": [
        "import numpy as np\n",
        "print('Root Mean Squared Error:', np.sqrt(metrics.mean_squared_error(y_test, y_pred)))"
      ],
      "metadata": {
        "colab": {
          "base_uri": "https://localhost:8080/"
        },
        "id": "TkJuxvnsBd09",
        "outputId": "71433e01-c8ab-4f73-d122-11ab25d2825f"
      },
      "execution_count": 19,
      "outputs": [
        {
          "output_type": "stream",
          "name": "stdout",
          "text": [
            "Root Mean Squared Error: 10.843618934321098\n"
          ]
        }
      ]
    },
    {
      "cell_type": "markdown",
      "source": [
        "These metrics provide different ways of understanding the model’s performance."
      ],
      "metadata": {
        "id": "-JBkZqRRBtoA"
      }
    },
    {
      "cell_type": "markdown",
      "source": [
        "ADVANTAGES :\n",
        "1. feature selection\n",
        "2. overfitting\n",
        "3. handling multiocollinearity\n",
        "\n",
        "disadvantages:\n",
        "1. selection of Regularization Parameter\n",
        "2. Limitations in Feature Selection\n",
        "3. Difficulty Handling Complex Relationships"
      ],
      "metadata": {
        "id": "VJ5xvnAMBuji"
      }
    }
  ]
}