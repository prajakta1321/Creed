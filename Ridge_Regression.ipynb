{
  "nbformat": 4,
  "nbformat_minor": 0,
  "metadata": {
    "colab": {
      "provenance": []
    },
    "kernelspec": {
      "name": "python3",
      "display_name": "Python 3"
    },
    "language_info": {
      "name": "python"
    }
  },
  "cells": [
    {
      "cell_type": "markdown",
      "source": [
        "Ridge is a type of linear regression that uses a technique called regularization to improve the model’s accuracy and interpretability. While Lasso uses the absolute value of the coefficients in its penalty term, Ridge uses the square of the coefficients.\n",
        "\n",
        "![image.png](data:image/png;base64,iVBORw0KGgoAAAANSUhEUgAAAVIAAAAfCAYAAAC1ZEXpAAAKjklEQVR4Ae2XgY3kNgxFp5SUklLSSUpJKSklpSR4m3t3BCHKsi157d0RYMiWKfLz84ueeb3+H3+9Xq9/L7r++BHzPT2Dgbc2nlGnO6O8UkO/fyYRBI+N9J9BML+9Xq984YtmydUicNT3IIS32WIGqG/WBmtbI+uC57c2tlj79d4zNML1r133vLuyv/y9mALqQj7l+DMdGJrgjIEQCE6CHsgukBlB3z6mMkD9rB3zrI+hzTV+cL+7NuAEPuCcGa45m08fT+8v1IMLfdLLuJofORZjs+PAzCwg/iWTOO/xLAZWagMm3tr4Xw/wEM+dH5nmoX2QhK7sL3A2e/BBix95nss+RrL5l0fcPAMcMQCxJQzizo49A/939WHd1EcW1gxe1N9XrTu/aLZ0z+GEWwdcwDl7nz6sb9TQFh97c4avyN/e/S17MOKz9YFr2X+sUTATZZ4NiiAA6n01wFB2+xL5s16QIzzMFtJKFjzU6gNtzMYPLz1t9PK7O6dwha73cIZG4PsOHxcwcO3Bn+tFjdTPyv4Sm17GUD2TV6WhnHP+4DV9WjwTPirspvMfhcjAtKVQK5q3/j97Jj+KAKfcM+89XJ+Zw2ptkFuljSpvOQXb3TkF454PELbo4w6DJgOePfhbuNG8vYX5yv7SwsMaucEzMxoiR2rVGugT3Nh1B4Y4jckS4IrRS+CK+CtjeOBzDHi+it8ce+9zSxuV4Pb6PmL/RE5HNQ6vd2mi1gZMZ5sfGoKD2F82m5IAFswtDbEGvhYuatJab0Kz65osibO2clAk4nzVUeUGx5/ZjPby3dLGsLD2Btuwb3EqvrtyykeTmvfOE3zGJtqz3aDoQ1sz6wPnW/i3MFmjK/tLCxM4ehrKP3B2NVEDWvCYrO9WzCQ0+2f+CpxHfHKoWwdbQc0U+hF8e/dcrY0WvidzitZbeiBPtBDPAc/5QLf4qNaIc2Z/9utf87M+wWVvYY4fjhxz1XPFjdhi3NxEY42iXfNe0kyYACuGDWWV/xWY9/isREK+rS/iHt+fZavY1MYuYU0AXfH2BE7hqqWJeA7IQ7szH1r8nG16sVz4mtX44ED9MIP1qlH9GiU+uGJ9wMWzNaEulf6a+A0Wkz1T1GaQHwCJQbxqmERLFGDq7a18XrEOLosCdvLwVwbFWMHnlXlFbbRqswILnNq4I6dwe5RT9cWMf2NQu9k1AjO85UEs8Ocr2+15Jp/ZdQHf1nkdwQjH+sIf97O5rnDACxcjasiP149XHzrI9eDZvdptziQbDwtOWJs5ANUSljH8GmBH/DzY68HK7z77GcxcHh65JI+7Yh7l7ApttLDM5JQc1BeHmHsvnolFzWZqHr+zfbZ4Yg2NzW6k+AQ/3JwdchHPxVmfI/vBTuzWuZzN1088islkEdrMgb9WgyQGSVkwCxhFLRHLkj+ZKLlFvN7Lqc85TLWe7T77Wf7VRlXHmTiPctrCQB3UF++tCzM1MK/W3qNrNg/m1WNFIxX/rD4g53IN5tWDWHF43oiNhn2ONqfvcQppJsocxXc2AL6rA0hiJmX8GI/3rGvjO/BdURDjVXOVl2LMHwBxw8lMjit8M9atgfVZjXsvp+aIRtgr5+ra98xgJw+bHM/aRzvuqVH1jn2V/ohLjGpvjnPmGQyz48RekM/dEazWQf0wr9QQ8SoNwdXS2lh8kwXIDBIhHl8UpzdMMIuTvWDKA3sPQ34Xn21o5jUyV0WIfrmHn4xXG/mM7xFP5IF3o4IawZ1tZtUPP9aBGNzP8i1fzviNnLnOzDviV++x6b3jvfij3+qe2lR59vQnztHaVvFd92zk+o4862N0Rp9cYMf/rBzkRMyjZ2wUd7QDc4XbflC9j34O38eCjTSp0UCIe4s4bCA5Clc8W4djFMdsu17BFE4sGBzEZ4sac56NcZY/86FG1GXV6HEqX5HDPTjMIX7M9uwftTXOUZyjcbDjbMyqB7x4TuU6n8k92LKt5xmfM/tLjgPvlX/e9eJTOzhlPjwkb1ZhBGKT9Lk1U0ASjEPiMx6eK6Li/tX3CK/CYcEsiIcr2st3XFuN+ah/8a9uDns4jbnAIdjkO75zzZrkHDL/2GOT1/XZe4fNVVwRa1YjjU3UPD2T+fz5fu8Mn70mttdfZU8Ma55tyDP3mWjDPjg9PCz+KSdFdBtilRzbSI4k47ABx30Kp0dW9LHyHgwtkbW4dC0ezquEdZYDsHOocn3O+m3trziVq5Y+bWzMEWPGrZ5iDdjD5WAPPqirv87iO3xYS+bWEGuM07KbseZ5OOOLfOE944UX1luc740nZ5HrvT5G7I2Tc2GvdVmGgeCQGUU4AnrUxgQq4eGH2FG47qGQDvZDgmS5/hmzGDxYYnA9c2k+zA7XWs1YmzvMK7UR85O7UU7Zyx4PBnPUkB/wqBn0xB73RnvWtM2+fOe+6Ie1ONgbdRvfzb4/20ipLVijLiNG+OnlGm2re/jGTz4Tlf2ZdevGHIdnrYcBGy71EfcP3V9xUChGr2EAHhsJt4CtryFrmaihRCcaEd9LPGJu5WkhmR2tNd/dZUYb5HXFiHwSl+cepxmTe1xHU6xRH/zAN/d5Tfs4Y0/81hBX6x1rxqvez1wnVktvIzHIY+tcalNxMRIHvrmuGOCkzsa0Fta/wgCHXNgfypWABFk9iAHIrYH4uSxgFokNNzakLZ8r3sObGMDEPXNvZNGyh7W7DkW4ldcs/HBqrFFOY2y4tCZxPa9t1YrYvbqgzZ6W2XvoMEbQg/fgyGdkcOuHmXz39mzx1dt7VX8RQ6wbuY3kh431YgbzruFByULb5WTQmGKTZCuxFtk03laDJ1HXdyc8iHXETAwjttqwx4KxFnPR5i4z2KjXFdow5yOcuhddxUPk+pE51qWlMeLEOsYY8DULR/Rb3YOjdaYq+yvXPddX4SPOGQ3BTa+2Te5sbCsOSuUzNxKAKbwoWO5JqOUH3H6Fz3yJm6QMLlKw3i+Syg35kJvCgo9WjtX+q9atyQpslc+jnMpJbH6uHZ2prVfGC060aQ1zDOpbNdls+5Wf4aA6w2fzzjXRHzHPcG9tK//G+TljuCpJEqmaDEBpHlGErrEPXAhxq8Fo+zOhi2+Iz3VkmCMcDRfsSKCDe1Zqw49gC9oZTvE3s4GhyUpjrKPP1oC76l3L/quurdQQ/Ff9parZKM/oc7h+Jrni15y+Y6PMSUhEtOEePGeJyLFWPZPnVxzUgQ8sdZg99F1xV633cLAHv/pmXjHw63mpGjY2Wz8AVmC7m09qsupHmr6rOh/RUOQP3VPfzQGAVQfFJEeAIMqKjM0k3gZLGLARjNRvLwC1gfZmDhqX4l/R/MWKb2Kh2+oXCzmePcjGe+q8sr/APfqpfo3O4GyoN5Ikh2T2QcEvQgMEl1/uGYm9fVzHwBXamH0IaFxXfJTV+HdvlD01whEfmaf1F2oKdi76F3N3kCCJuqlrHF5q74xwaZyxedpEh4AE3+/bezCANqzdppACZDXh/NZGIOeb3V7VX2bSim7RPc0U/PS07vCgxIa34n72L45uUu+XUxigZiu0kH2iwff4mgw8ub/QPDkDm/82ql+OWegznt9/6591UN7aeFa97oj2Sg1tNrsVBP0Hz2qCicXSW+QAAAAASUVORK5CYII=)\n",
        "\n",
        "\n",
        "where:\n",
        "\n",
        "yi is the ith value of the variable we want to predict.\n",
        "β0 is the y-intercept.\n",
        "βj is the coefficient for the jth predictor variable xij.\n",
        "λ is the regularization parameter."
      ],
      "metadata": {
        "id": "GMmjj09yEB8J"
      }
    },
    {
      "cell_type": "code",
      "source": [
        "from sklearn.linear_model import Ridge"
      ],
      "metadata": {
        "id": "fDGVKoA2ERbP"
      },
      "execution_count": 1,
      "outputs": []
    },
    {
      "cell_type": "code",
      "source": [
        "import pandas as pd\n",
        "from sklearn.model_selection import train_test_split\n",
        "from sklearn.linear_model import LinearRegression\n",
        "from sklearn import metrics"
      ],
      "metadata": {
        "id": "lqGbyRriFNb3"
      },
      "execution_count": 3,
      "outputs": []
    },
    {
      "cell_type": "code",
      "source": [
        "df = pd.read_csv('student-mat.csv')\n",
        "print(df.head(4))"
      ],
      "metadata": {
        "colab": {
          "base_uri": "https://localhost:8080/"
        },
        "id": "OdAFsAZ2FQiD",
        "outputId": "e90b7218-5d5d-4761-d72a-d6b1763a5285"
      },
      "execution_count": 4,
      "outputs": [
        {
          "output_type": "stream",
          "name": "stdout",
          "text": [
            "  school sex  age address famsize Pstatus  Medu  Fedu     Mjob      Fjob  ...  \\\n",
            "0     GP   F   18       U     GT3       A     4     4  at_home   teacher  ...   \n",
            "1     GP   F   17       U     GT3       T     1     1  at_home     other  ...   \n",
            "2     GP   F   15       U     LE3       T     1     1  at_home     other  ...   \n",
            "3     GP   F   15       U     GT3       T     4     2   health  services  ...   \n",
            "\n",
            "  famrel freetime  goout  Dalc  Walc health absences  G1  G2  G3  \n",
            "0      4        3      4     1     1      3        6   5   6   6  \n",
            "1      5        3      3     1     1      3        4   5   5   6  \n",
            "2      4        3      2     2     3      3       10   7   8  10  \n",
            "3      3        2      2     1     1      5        2  15  14  15  \n",
            "\n",
            "[4 rows x 33 columns]\n"
          ]
        }
      ]
    },
    {
      "cell_type": "markdown",
      "source": [
        "This penalty term discourages large coefficients, like in Lasso, but because of the squaring, it does not force them to zero.\n",
        "\n",
        "Ridge Regression “shrinks” the coefficients of correlated features, distributing the contribution more evenly and creating a more stable model.\n",
        "\n"
      ],
      "metadata": {
        "id": "SVjnfrAdEZSu"
      }
    },
    {
      "cell_type": "code",
      "source": [
        "X = df['G1'].values.reshape(-1,1)\n",
        "y = df['absences'].values.reshape(-1,1)"
      ],
      "metadata": {
        "id": "Ky2wXAR4E2HQ"
      },
      "execution_count": 5,
      "outputs": []
    },
    {
      "cell_type": "code",
      "source": [
        "X_train, X_test, y_train, y_test = train_test_split(X, y, test_size=0.2, random_state=0)"
      ],
      "metadata": {
        "id": "bzXk35DkFaAJ"
      },
      "execution_count": 7,
      "outputs": []
    },
    {
      "cell_type": "code",
      "source": [
        "ridge = Ridge(alpha=0.1)\n",
        "ridge.fit(X_train, y_train)"
      ],
      "metadata": {
        "colab": {
          "base_uri": "https://localhost:8080/",
          "height": 74
        },
        "id": "pTLyZ_0kFUSo",
        "outputId": "cf8ea5b7-ba54-483e-f8cf-e0063c4a63d8"
      },
      "execution_count": 8,
      "outputs": [
        {
          "output_type": "execute_result",
          "data": {
            "text/plain": [
              "Ridge(alpha=0.1)"
            ],
            "text/html": [
              "<style>#sk-container-id-1 {color: black;background-color: white;}#sk-container-id-1 pre{padding: 0;}#sk-container-id-1 div.sk-toggleable {background-color: white;}#sk-container-id-1 label.sk-toggleable__label {cursor: pointer;display: block;width: 100%;margin-bottom: 0;padding: 0.3em;box-sizing: border-box;text-align: center;}#sk-container-id-1 label.sk-toggleable__label-arrow:before {content: \"▸\";float: left;margin-right: 0.25em;color: #696969;}#sk-container-id-1 label.sk-toggleable__label-arrow:hover:before {color: black;}#sk-container-id-1 div.sk-estimator:hover label.sk-toggleable__label-arrow:before {color: black;}#sk-container-id-1 div.sk-toggleable__content {max-height: 0;max-width: 0;overflow: hidden;text-align: left;background-color: #f0f8ff;}#sk-container-id-1 div.sk-toggleable__content pre {margin: 0.2em;color: black;border-radius: 0.25em;background-color: #f0f8ff;}#sk-container-id-1 input.sk-toggleable__control:checked~div.sk-toggleable__content {max-height: 200px;max-width: 100%;overflow: auto;}#sk-container-id-1 input.sk-toggleable__control:checked~label.sk-toggleable__label-arrow:before {content: \"▾\";}#sk-container-id-1 div.sk-estimator input.sk-toggleable__control:checked~label.sk-toggleable__label {background-color: #d4ebff;}#sk-container-id-1 div.sk-label input.sk-toggleable__control:checked~label.sk-toggleable__label {background-color: #d4ebff;}#sk-container-id-1 input.sk-hidden--visually {border: 0;clip: rect(1px 1px 1px 1px);clip: rect(1px, 1px, 1px, 1px);height: 1px;margin: -1px;overflow: hidden;padding: 0;position: absolute;width: 1px;}#sk-container-id-1 div.sk-estimator {font-family: monospace;background-color: #f0f8ff;border: 1px dotted black;border-radius: 0.25em;box-sizing: border-box;margin-bottom: 0.5em;}#sk-container-id-1 div.sk-estimator:hover {background-color: #d4ebff;}#sk-container-id-1 div.sk-parallel-item::after {content: \"\";width: 100%;border-bottom: 1px solid gray;flex-grow: 1;}#sk-container-id-1 div.sk-label:hover label.sk-toggleable__label {background-color: #d4ebff;}#sk-container-id-1 div.sk-serial::before {content: \"\";position: absolute;border-left: 1px solid gray;box-sizing: border-box;top: 0;bottom: 0;left: 50%;z-index: 0;}#sk-container-id-1 div.sk-serial {display: flex;flex-direction: column;align-items: center;background-color: white;padding-right: 0.2em;padding-left: 0.2em;position: relative;}#sk-container-id-1 div.sk-item {position: relative;z-index: 1;}#sk-container-id-1 div.sk-parallel {display: flex;align-items: stretch;justify-content: center;background-color: white;position: relative;}#sk-container-id-1 div.sk-item::before, #sk-container-id-1 div.sk-parallel-item::before {content: \"\";position: absolute;border-left: 1px solid gray;box-sizing: border-box;top: 0;bottom: 0;left: 50%;z-index: -1;}#sk-container-id-1 div.sk-parallel-item {display: flex;flex-direction: column;z-index: 1;position: relative;background-color: white;}#sk-container-id-1 div.sk-parallel-item:first-child::after {align-self: flex-end;width: 50%;}#sk-container-id-1 div.sk-parallel-item:last-child::after {align-self: flex-start;width: 50%;}#sk-container-id-1 div.sk-parallel-item:only-child::after {width: 0;}#sk-container-id-1 div.sk-dashed-wrapped {border: 1px dashed gray;margin: 0 0.4em 0.5em 0.4em;box-sizing: border-box;padding-bottom: 0.4em;background-color: white;}#sk-container-id-1 div.sk-label label {font-family: monospace;font-weight: bold;display: inline-block;line-height: 1.2em;}#sk-container-id-1 div.sk-label-container {text-align: center;}#sk-container-id-1 div.sk-container {/* jupyter's `normalize.less` sets `[hidden] { display: none; }` but bootstrap.min.css set `[hidden] { display: none !important; }` so we also need the `!important` here to be able to override the default hidden behavior on the sphinx rendered scikit-learn.org. See: https://github.com/scikit-learn/scikit-learn/issues/21755 */display: inline-block !important;position: relative;}#sk-container-id-1 div.sk-text-repr-fallback {display: none;}</style><div id=\"sk-container-id-1\" class=\"sk-top-container\"><div class=\"sk-text-repr-fallback\"><pre>Ridge(alpha=0.1)</pre><b>In a Jupyter environment, please rerun this cell to show the HTML representation or trust the notebook. <br />On GitHub, the HTML representation is unable to render, please try loading this page with nbviewer.org.</b></div><div class=\"sk-container\" hidden><div class=\"sk-item\"><div class=\"sk-estimator sk-toggleable\"><input class=\"sk-toggleable__control sk-hidden--visually\" id=\"sk-estimator-id-1\" type=\"checkbox\" checked><label for=\"sk-estimator-id-1\" class=\"sk-toggleable__label sk-toggleable__label-arrow\">Ridge</label><div class=\"sk-toggleable__content\"><pre>Ridge(alpha=0.1)</pre></div></div></div></div></div>"
            ]
          },
          "metadata": {},
          "execution_count": 8
        }
      ]
    },
    {
      "cell_type": "code",
      "source": [
        "y_pred = ridge.predict(X_test)"
      ],
      "metadata": {
        "id": "uihGrWpaFdmA"
      },
      "execution_count": 9,
      "outputs": []
    },
    {
      "cell_type": "code",
      "source": [
        "print(ridge.coef_)"
      ],
      "metadata": {
        "colab": {
          "base_uri": "https://localhost:8080/"
        },
        "id": "Zby-CtzgFgoW",
        "outputId": "1b70eb38-bd9f-40e4-aeb2-77af087063b1"
      },
      "execution_count": 10,
      "outputs": [
        {
          "output_type": "stream",
          "name": "stdout",
          "text": [
            "[[-0.11262956]]\n"
          ]
        }
      ]
    },
    {
      "cell_type": "code",
      "source": [
        "print('Mean Absolute Error:', metrics.mean_absolute_error(y_test, y_pred))"
      ],
      "metadata": {
        "colab": {
          "base_uri": "https://localhost:8080/"
        },
        "id": "akLEKhEmFlP6",
        "outputId": "ca3a7d1a-c87f-4010-cb93-c17d0839c72a"
      },
      "execution_count": 11,
      "outputs": [
        {
          "output_type": "stream",
          "name": "stdout",
          "text": [
            "Mean Absolute Error: 5.778184318489622\n"
          ]
        }
      ]
    },
    {
      "cell_type": "code",
      "source": [
        "print('Mean Squared Error:', metrics.mean_squared_error(y_test, y_pred))"
      ],
      "metadata": {
        "colab": {
          "base_uri": "https://localhost:8080/"
        },
        "id": "Set2eHAmFmqr",
        "outputId": "cbb427bd-79de-4eba-9e51-9626bb6248a9"
      },
      "execution_count": 12,
      "outputs": [
        {
          "output_type": "stream",
          "name": "stdout",
          "text": [
            "Mean Squared Error: 117.7523073737721\n"
          ]
        }
      ]
    },
    {
      "cell_type": "code",
      "source": [
        "import numpy as np\n",
        "print('Root Mean Squared Error:', np.sqrt(metrics.mean_squared_error(y_test, y_pred)))"
      ],
      "metadata": {
        "colab": {
          "base_uri": "https://localhost:8080/"
        },
        "id": "4haBi5_PFmds",
        "outputId": "d553c249-a2a0-4b59-bf0b-d0caf737d7f4"
      },
      "execution_count": 15,
      "outputs": [
        {
          "output_type": "stream",
          "name": "stdout",
          "text": [
            "Root Mean Squared Error: 10.851373524755845\n"
          ]
        }
      ]
    },
    {
      "cell_type": "markdown",
      "source": [
        "ADVANTAGES :\n",
        "\n",
        "1.Prevention of Overfitting\n",
        "\n",
        "2.Multicollinearity Handling\n",
        "\n",
        "3.Performance with Many Features\n",
        "\n",
        "DISADVANTAGES:\n",
        "\n",
        "1.Selection of Regularization Parameter\n",
        "\n",
        "2.Does Not Perform Feature Selection\n",
        "\n",
        "3.Bias Introducing"
      ],
      "metadata": {
        "id": "OrKuK3xHF6xR"
      }
    }
  ]
}