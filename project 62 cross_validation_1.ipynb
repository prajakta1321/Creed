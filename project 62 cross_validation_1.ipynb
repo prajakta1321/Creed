{
  "nbformat": 4,
  "nbformat_minor": 0,
  "metadata": {
    "colab": {
      "provenance": []
    },
    "kernelspec": {
      "name": "python3",
      "display_name": "Python 3"
    },
    "language_info": {
      "name": "python"
    }
  },
  "cells": [
    {
      "cell_type": "code",
      "execution_count": 3,
      "metadata": {
        "colab": {
          "base_uri": "https://localhost:8080/",
          "height": 206
        },
        "id": "QpCn0dDb8YBG",
        "outputId": "42b70281-e1aa-47dc-950b-b2d0cb671624"
      },
      "outputs": [
        {
          "output_type": "execute_result",
          "data": {
            "text/plain": [
              "   total_protein  total_keratine  hair_texture  vitamin  manganese  iron  \\\n",
              "0            312             100            14      249         87    55   \n",
              "1             52             207             3      425        387     1   \n",
              "2            170             197            11      140        199    91   \n",
              "3            256             334            19      358        120     3   \n",
              "4            309             185            58      207        329   301   \n",
              "\n",
              "   calcium  body_water_content  stress_level  liver_data  hair_fall  \n",
              "0      333                  44            41         368          4  \n",
              "1      182                  26            65          41          1  \n",
              "2      414                  30            54          90          4  \n",
              "3       35                  48            45          65          2  \n",
              "4      345                  23            90         346          4  "
            ],
            "text/html": [
              "\n",
              "  <div id=\"df-74a0bc8e-14b4-4fb7-b42a-078a7d5ba486\" class=\"colab-df-container\">\n",
              "    <div>\n",
              "<style scoped>\n",
              "    .dataframe tbody tr th:only-of-type {\n",
              "        vertical-align: middle;\n",
              "    }\n",
              "\n",
              "    .dataframe tbody tr th {\n",
              "        vertical-align: top;\n",
              "    }\n",
              "\n",
              "    .dataframe thead th {\n",
              "        text-align: right;\n",
              "    }\n",
              "</style>\n",
              "<table border=\"1\" class=\"dataframe\">\n",
              "  <thead>\n",
              "    <tr style=\"text-align: right;\">\n",
              "      <th></th>\n",
              "      <th>total_protein</th>\n",
              "      <th>total_keratine</th>\n",
              "      <th>hair_texture</th>\n",
              "      <th>vitamin</th>\n",
              "      <th>manganese</th>\n",
              "      <th>iron</th>\n",
              "      <th>calcium</th>\n",
              "      <th>body_water_content</th>\n",
              "      <th>stress_level</th>\n",
              "      <th>liver_data</th>\n",
              "      <th>hair_fall</th>\n",
              "    </tr>\n",
              "  </thead>\n",
              "  <tbody>\n",
              "    <tr>\n",
              "      <th>0</th>\n",
              "      <td>312</td>\n",
              "      <td>100</td>\n",
              "      <td>14</td>\n",
              "      <td>249</td>\n",
              "      <td>87</td>\n",
              "      <td>55</td>\n",
              "      <td>333</td>\n",
              "      <td>44</td>\n",
              "      <td>41</td>\n",
              "      <td>368</td>\n",
              "      <td>4</td>\n",
              "    </tr>\n",
              "    <tr>\n",
              "      <th>1</th>\n",
              "      <td>52</td>\n",
              "      <td>207</td>\n",
              "      <td>3</td>\n",
              "      <td>425</td>\n",
              "      <td>387</td>\n",
              "      <td>1</td>\n",
              "      <td>182</td>\n",
              "      <td>26</td>\n",
              "      <td>65</td>\n",
              "      <td>41</td>\n",
              "      <td>1</td>\n",
              "    </tr>\n",
              "    <tr>\n",
              "      <th>2</th>\n",
              "      <td>170</td>\n",
              "      <td>197</td>\n",
              "      <td>11</td>\n",
              "      <td>140</td>\n",
              "      <td>199</td>\n",
              "      <td>91</td>\n",
              "      <td>414</td>\n",
              "      <td>30</td>\n",
              "      <td>54</td>\n",
              "      <td>90</td>\n",
              "      <td>4</td>\n",
              "    </tr>\n",
              "    <tr>\n",
              "      <th>3</th>\n",
              "      <td>256</td>\n",
              "      <td>334</td>\n",
              "      <td>19</td>\n",
              "      <td>358</td>\n",
              "      <td>120</td>\n",
              "      <td>3</td>\n",
              "      <td>35</td>\n",
              "      <td>48</td>\n",
              "      <td>45</td>\n",
              "      <td>65</td>\n",
              "      <td>2</td>\n",
              "    </tr>\n",
              "    <tr>\n",
              "      <th>4</th>\n",
              "      <td>309</td>\n",
              "      <td>185</td>\n",
              "      <td>58</td>\n",
              "      <td>207</td>\n",
              "      <td>329</td>\n",
              "      <td>301</td>\n",
              "      <td>345</td>\n",
              "      <td>23</td>\n",
              "      <td>90</td>\n",
              "      <td>346</td>\n",
              "      <td>4</td>\n",
              "    </tr>\n",
              "  </tbody>\n",
              "</table>\n",
              "</div>\n",
              "    <div class=\"colab-df-buttons\">\n",
              "\n",
              "  <div class=\"colab-df-container\">\n",
              "    <button class=\"colab-df-convert\" onclick=\"convertToInteractive('df-74a0bc8e-14b4-4fb7-b42a-078a7d5ba486')\"\n",
              "            title=\"Convert this dataframe to an interactive table.\"\n",
              "            style=\"display:none;\">\n",
              "\n",
              "  <svg xmlns=\"http://www.w3.org/2000/svg\" height=\"24px\" viewBox=\"0 -960 960 960\">\n",
              "    <path d=\"M120-120v-720h720v720H120Zm60-500h600v-160H180v160Zm220 220h160v-160H400v160Zm0 220h160v-160H400v160ZM180-400h160v-160H180v160Zm440 0h160v-160H620v160ZM180-180h160v-160H180v160Zm440 0h160v-160H620v160Z\"/>\n",
              "  </svg>\n",
              "    </button>\n",
              "\n",
              "  <style>\n",
              "    .colab-df-container {\n",
              "      display:flex;\n",
              "      gap: 12px;\n",
              "    }\n",
              "\n",
              "    .colab-df-convert {\n",
              "      background-color: #E8F0FE;\n",
              "      border: none;\n",
              "      border-radius: 50%;\n",
              "      cursor: pointer;\n",
              "      display: none;\n",
              "      fill: #1967D2;\n",
              "      height: 32px;\n",
              "      padding: 0 0 0 0;\n",
              "      width: 32px;\n",
              "    }\n",
              "\n",
              "    .colab-df-convert:hover {\n",
              "      background-color: #E2EBFA;\n",
              "      box-shadow: 0px 1px 2px rgba(60, 64, 67, 0.3), 0px 1px 3px 1px rgba(60, 64, 67, 0.15);\n",
              "      fill: #174EA6;\n",
              "    }\n",
              "\n",
              "    .colab-df-buttons div {\n",
              "      margin-bottom: 4px;\n",
              "    }\n",
              "\n",
              "    [theme=dark] .colab-df-convert {\n",
              "      background-color: #3B4455;\n",
              "      fill: #D2E3FC;\n",
              "    }\n",
              "\n",
              "    [theme=dark] .colab-df-convert:hover {\n",
              "      background-color: #434B5C;\n",
              "      box-shadow: 0px 1px 3px 1px rgba(0, 0, 0, 0.15);\n",
              "      filter: drop-shadow(0px 1px 2px rgba(0, 0, 0, 0.3));\n",
              "      fill: #FFFFFF;\n",
              "    }\n",
              "  </style>\n",
              "\n",
              "    <script>\n",
              "      const buttonEl =\n",
              "        document.querySelector('#df-74a0bc8e-14b4-4fb7-b42a-078a7d5ba486 button.colab-df-convert');\n",
              "      buttonEl.style.display =\n",
              "        google.colab.kernel.accessAllowed ? 'block' : 'none';\n",
              "\n",
              "      async function convertToInteractive(key) {\n",
              "        const element = document.querySelector('#df-74a0bc8e-14b4-4fb7-b42a-078a7d5ba486');\n",
              "        const dataTable =\n",
              "          await google.colab.kernel.invokeFunction('convertToInteractive',\n",
              "                                                    [key], {});\n",
              "        if (!dataTable) return;\n",
              "\n",
              "        const docLinkHtml = 'Like what you see? Visit the ' +\n",
              "          '<a target=\"_blank\" href=https://colab.research.google.com/notebooks/data_table.ipynb>data table notebook</a>'\n",
              "          + ' to learn more about interactive tables.';\n",
              "        element.innerHTML = '';\n",
              "        dataTable['output_type'] = 'display_data';\n",
              "        await google.colab.output.renderOutput(dataTable, element);\n",
              "        const docLink = document.createElement('div');\n",
              "        docLink.innerHTML = docLinkHtml;\n",
              "        element.appendChild(docLink);\n",
              "      }\n",
              "    </script>\n",
              "  </div>\n",
              "\n",
              "\n",
              "<div id=\"df-8683da62-638b-45bd-bfbc-2a2e4adc6266\">\n",
              "  <button class=\"colab-df-quickchart\" onclick=\"quickchart('df-8683da62-638b-45bd-bfbc-2a2e4adc6266')\"\n",
              "            title=\"Suggest charts\"\n",
              "            style=\"display:none;\">\n",
              "\n",
              "<svg xmlns=\"http://www.w3.org/2000/svg\" height=\"24px\"viewBox=\"0 0 24 24\"\n",
              "     width=\"24px\">\n",
              "    <g>\n",
              "        <path d=\"M19 3H5c-1.1 0-2 .9-2 2v14c0 1.1.9 2 2 2h14c1.1 0 2-.9 2-2V5c0-1.1-.9-2-2-2zM9 17H7v-7h2v7zm4 0h-2V7h2v10zm4 0h-2v-4h2v4z\"/>\n",
              "    </g>\n",
              "</svg>\n",
              "  </button>\n",
              "\n",
              "<style>\n",
              "  .colab-df-quickchart {\n",
              "      --bg-color: #E8F0FE;\n",
              "      --fill-color: #1967D2;\n",
              "      --hover-bg-color: #E2EBFA;\n",
              "      --hover-fill-color: #174EA6;\n",
              "      --disabled-fill-color: #AAA;\n",
              "      --disabled-bg-color: #DDD;\n",
              "  }\n",
              "\n",
              "  [theme=dark] .colab-df-quickchart {\n",
              "      --bg-color: #3B4455;\n",
              "      --fill-color: #D2E3FC;\n",
              "      --hover-bg-color: #434B5C;\n",
              "      --hover-fill-color: #FFFFFF;\n",
              "      --disabled-bg-color: #3B4455;\n",
              "      --disabled-fill-color: #666;\n",
              "  }\n",
              "\n",
              "  .colab-df-quickchart {\n",
              "    background-color: var(--bg-color);\n",
              "    border: none;\n",
              "    border-radius: 50%;\n",
              "    cursor: pointer;\n",
              "    display: none;\n",
              "    fill: var(--fill-color);\n",
              "    height: 32px;\n",
              "    padding: 0;\n",
              "    width: 32px;\n",
              "  }\n",
              "\n",
              "  .colab-df-quickchart:hover {\n",
              "    background-color: var(--hover-bg-color);\n",
              "    box-shadow: 0 1px 2px rgba(60, 64, 67, 0.3), 0 1px 3px 1px rgba(60, 64, 67, 0.15);\n",
              "    fill: var(--button-hover-fill-color);\n",
              "  }\n",
              "\n",
              "  .colab-df-quickchart-complete:disabled,\n",
              "  .colab-df-quickchart-complete:disabled:hover {\n",
              "    background-color: var(--disabled-bg-color);\n",
              "    fill: var(--disabled-fill-color);\n",
              "    box-shadow: none;\n",
              "  }\n",
              "\n",
              "  .colab-df-spinner {\n",
              "    border: 2px solid var(--fill-color);\n",
              "    border-color: transparent;\n",
              "    border-bottom-color: var(--fill-color);\n",
              "    animation:\n",
              "      spin 1s steps(1) infinite;\n",
              "  }\n",
              "\n",
              "  @keyframes spin {\n",
              "    0% {\n",
              "      border-color: transparent;\n",
              "      border-bottom-color: var(--fill-color);\n",
              "      border-left-color: var(--fill-color);\n",
              "    }\n",
              "    20% {\n",
              "      border-color: transparent;\n",
              "      border-left-color: var(--fill-color);\n",
              "      border-top-color: var(--fill-color);\n",
              "    }\n",
              "    30% {\n",
              "      border-color: transparent;\n",
              "      border-left-color: var(--fill-color);\n",
              "      border-top-color: var(--fill-color);\n",
              "      border-right-color: var(--fill-color);\n",
              "    }\n",
              "    40% {\n",
              "      border-color: transparent;\n",
              "      border-right-color: var(--fill-color);\n",
              "      border-top-color: var(--fill-color);\n",
              "    }\n",
              "    60% {\n",
              "      border-color: transparent;\n",
              "      border-right-color: var(--fill-color);\n",
              "    }\n",
              "    80% {\n",
              "      border-color: transparent;\n",
              "      border-right-color: var(--fill-color);\n",
              "      border-bottom-color: var(--fill-color);\n",
              "    }\n",
              "    90% {\n",
              "      border-color: transparent;\n",
              "      border-bottom-color: var(--fill-color);\n",
              "    }\n",
              "  }\n",
              "</style>\n",
              "\n",
              "  <script>\n",
              "    async function quickchart(key) {\n",
              "      const quickchartButtonEl =\n",
              "        document.querySelector('#' + key + ' button');\n",
              "      quickchartButtonEl.disabled = true;  // To prevent multiple clicks.\n",
              "      quickchartButtonEl.classList.add('colab-df-spinner');\n",
              "      try {\n",
              "        const charts = await google.colab.kernel.invokeFunction(\n",
              "            'suggestCharts', [key], {});\n",
              "      } catch (error) {\n",
              "        console.error('Error during call to suggestCharts:', error);\n",
              "      }\n",
              "      quickchartButtonEl.classList.remove('colab-df-spinner');\n",
              "      quickchartButtonEl.classList.add('colab-df-quickchart-complete');\n",
              "    }\n",
              "    (() => {\n",
              "      let quickchartButtonEl =\n",
              "        document.querySelector('#df-8683da62-638b-45bd-bfbc-2a2e4adc6266 button');\n",
              "      quickchartButtonEl.style.display =\n",
              "        google.colab.kernel.accessAllowed ? 'block' : 'none';\n",
              "    })();\n",
              "  </script>\n",
              "</div>\n",
              "\n",
              "    </div>\n",
              "  </div>\n"
            ],
            "application/vnd.google.colaboratory.intrinsic+json": {
              "type": "dataframe",
              "variable_name": "df",
              "summary": "{\n  \"name\": \"df\",\n  \"rows\": 100000,\n  \"fields\": [\n    {\n      \"column\": \"total_protein\",\n      \"properties\": {\n        \"dtype\": \"number\",\n        \"std\": 144,\n        \"min\": 0,\n        \"max\": 499,\n        \"num_unique_values\": 500,\n        \"samples\": [\n          494,\n          340,\n          428\n        ],\n        \"semantic_type\": \"\",\n        \"description\": \"\"\n      }\n    },\n    {\n      \"column\": \"total_keratine\",\n      \"properties\": {\n        \"dtype\": \"number\",\n        \"std\": 144,\n        \"min\": 0,\n        \"max\": 499,\n        \"num_unique_values\": 500,\n        \"samples\": [\n          463,\n          327,\n          417\n        ],\n        \"semantic_type\": \"\",\n        \"description\": \"\"\n      }\n    },\n    {\n      \"column\": \"hair_texture\",\n      \"properties\": {\n        \"dtype\": \"number\",\n        \"std\": 28,\n        \"min\": 0,\n        \"max\": 99,\n        \"num_unique_values\": 100,\n        \"samples\": [\n          65,\n          12,\n          96\n        ],\n        \"semantic_type\": \"\",\n        \"description\": \"\"\n      }\n    },\n    {\n      \"column\": \"vitamin\",\n      \"properties\": {\n        \"dtype\": \"number\",\n        \"std\": 144,\n        \"min\": 0,\n        \"max\": 499,\n        \"num_unique_values\": 500,\n        \"samples\": [\n          38,\n          360,\n          103\n        ],\n        \"semantic_type\": \"\",\n        \"description\": \"\"\n      }\n    },\n    {\n      \"column\": \"manganese\",\n      \"properties\": {\n        \"dtype\": \"number\",\n        \"std\": 144,\n        \"min\": 0,\n        \"max\": 499,\n        \"num_unique_values\": 500,\n        \"samples\": [\n          469,\n          68,\n          28\n        ],\n        \"semantic_type\": \"\",\n        \"description\": \"\"\n      }\n    },\n    {\n      \"column\": \"iron\",\n      \"properties\": {\n        \"dtype\": \"number\",\n        \"std\": 144,\n        \"min\": 0,\n        \"max\": 499,\n        \"num_unique_values\": 500,\n        \"samples\": [\n          167,\n          497,\n          390\n        ],\n        \"semantic_type\": \"\",\n        \"description\": \"\"\n      }\n    },\n    {\n      \"column\": \"calcium\",\n      \"properties\": {\n        \"dtype\": \"number\",\n        \"std\": 144,\n        \"min\": 0,\n        \"max\": 499,\n        \"num_unique_values\": 500,\n        \"samples\": [\n          416,\n          231,\n          134\n        ],\n        \"semantic_type\": \"\",\n        \"description\": \"\"\n      }\n    },\n    {\n      \"column\": \"body_water_content\",\n      \"properties\": {\n        \"dtype\": \"number\",\n        \"std\": 28,\n        \"min\": 0,\n        \"max\": 99,\n        \"num_unique_values\": 100,\n        \"samples\": [\n          43,\n          37,\n          34\n        ],\n        \"semantic_type\": \"\",\n        \"description\": \"\"\n      }\n    },\n    {\n      \"column\": \"stress_level\",\n      \"properties\": {\n        \"dtype\": \"number\",\n        \"std\": 28,\n        \"min\": 0,\n        \"max\": 99,\n        \"num_unique_values\": 100,\n        \"samples\": [\n          15,\n          27,\n          66\n        ],\n        \"semantic_type\": \"\",\n        \"description\": \"\"\n      }\n    },\n    {\n      \"column\": \"liver_data\",\n      \"properties\": {\n        \"dtype\": \"number\",\n        \"std\": 144,\n        \"min\": 0,\n        \"max\": 499,\n        \"num_unique_values\": 500,\n        \"samples\": [\n          216,\n          318,\n          187\n        ],\n        \"semantic_type\": \"\",\n        \"description\": \"\"\n      }\n    },\n    {\n      \"column\": \"hair_fall\",\n      \"properties\": {\n        \"dtype\": \"number\",\n        \"std\": 1,\n        \"min\": 0,\n        \"max\": 5,\n        \"num_unique_values\": 6,\n        \"samples\": [\n          4,\n          1,\n          3\n        ],\n        \"semantic_type\": \"\",\n        \"description\": \"\"\n      }\n    }\n  ]\n}"
            }
          },
          "metadata": {},
          "execution_count": 3
        }
      ],
      "source": [
        "import pandas as pd\n",
        "from matplotlib import pyplot as plt\n",
        "df = pd.read_csv(\"hair_loss.csv\")\n",
        "df.head(5)"
      ]
    },
    {
      "cell_type": "code",
      "source": [
        "X = df[['total_protein','total_keratine','hair_texture','vitamin','manganese','iron','calcium','body_water_content','stress_level','liver_data']]\n",
        "y = df[\"hair_fall\"]"
      ],
      "metadata": {
        "id": "OSLjf9hGAQef"
      },
      "execution_count": 6,
      "outputs": []
    },
    {
      "cell_type": "code",
      "source": [
        "from sklearn.pipeline import Pipeline\n",
        "from sklearn.preprocessing import StandardScaler\n",
        "from sklearn.decomposition import PCA\n",
        "from sklearn.tree import DecisionTreeClassifier"
      ],
      "metadata": {
        "id": "BLzdWVpEAyGn"
      },
      "execution_count": 7,
      "outputs": []
    },
    {
      "cell_type": "code",
      "source": [
        "pipe = Pipeline(\n",
        "  [\n",
        "      (\"scalar\", StandardScaler()),\n",
        "      (\"pca\", PCA(n_components=3)),\n",
        "      (\"estimator\", DecisionTreeClassifier()),\n",
        "  ],\n",
        "  verbose=True,\n",
        ")"
      ],
      "metadata": {
        "id": "Bttt7AS9A5-C"
      },
      "execution_count": 8,
      "outputs": []
    },
    {
      "cell_type": "code",
      "source": [
        "from sklearn.model_selection import cross_val_score\n",
        "\n",
        "CV = 5\n",
        "scoring = \"accuracy\"\n",
        "\n",
        "scores = cross_val_score(pipe, X, y, scoring=scoring, cv=CV)\n",
        "print(f\"{scoring}: %0.2f (+/- %0.2f)\" % (scores.mean(), scores.std() * 2))"
      ],
      "metadata": {
        "colab": {
          "base_uri": "https://localhost:8080/"
        },
        "id": "9EnImpSQEAz6",
        "outputId": "98dcff82-4f2f-4a46-ae92-0530ade5fc97"
      },
      "execution_count": 9,
      "outputs": [
        {
          "output_type": "stream",
          "name": "stdout",
          "text": [
            "[Pipeline] ............ (step 1 of 3) Processing scalar, total=   0.1s\n",
            "[Pipeline] ............... (step 2 of 3) Processing pca, total=   0.8s\n",
            "[Pipeline] ......... (step 3 of 3) Processing estimator, total=   4.0s\n",
            "[Pipeline] ............ (step 1 of 3) Processing scalar, total=   0.0s\n",
            "[Pipeline] ............... (step 2 of 3) Processing pca, total=   0.2s\n",
            "[Pipeline] ......... (step 3 of 3) Processing estimator, total=   2.1s\n",
            "[Pipeline] ............ (step 1 of 3) Processing scalar, total=   0.0s\n",
            "[Pipeline] ............... (step 2 of 3) Processing pca, total=   0.2s\n",
            "[Pipeline] ......... (step 3 of 3) Processing estimator, total=   1.4s\n",
            "[Pipeline] ............ (step 1 of 3) Processing scalar, total=   0.1s\n",
            "[Pipeline] ............... (step 2 of 3) Processing pca, total=   0.4s\n",
            "[Pipeline] ......... (step 3 of 3) Processing estimator, total=   1.7s\n",
            "[Pipeline] ............ (step 1 of 3) Processing scalar, total=   0.0s\n",
            "[Pipeline] ............... (step 2 of 3) Processing pca, total=   0.2s\n",
            "[Pipeline] ......... (step 3 of 3) Processing estimator, total=   1.7s\n",
            "accuracy: 0.17 (+/- 0.00)\n"
          ]
        }
      ]
    },
    {
      "cell_type": "code",
      "source": [
        "import matplotlib.pyplot as plt\n",
        "import numpy as np\n",
        "\n",
        "folds = np.arange(1, CV + 1)\n",
        "\n",
        "plt.rc('grid', linestyle=\"-\", color='black')\n",
        "plt.scatter(x=folds, y=scores)\n",
        "plt.xticks(folds)\n",
        "\n",
        "plt.grid(True)\n",
        "\n",
        "plt.title(f\"Cross-validation scores\")\n",
        "\n",
        "plt.xlabel(\"k-fold\")\n",
        "plt.ylabel(f\"Scores [{scoring}]\")\n",
        "\n",
        "plt.show()"
      ],
      "metadata": {
        "colab": {
          "base_uri": "https://localhost:8080/",
          "height": 472
        },
        "id": "SG6MAvWtEJvU",
        "outputId": "df4868ae-ef90-4de0-fabb-1fc9a4bc3b59"
      },
      "execution_count": 10,
      "outputs": [
        {
          "output_type": "display_data",
          "data": {
            "text/plain": [
              "<Figure size 640x480 with 1 Axes>"
            ],
            "image/png": "[encoded data removed]"
          },
          "metadata": {}
        }
      ]
    },
    {
      "cell_type": "code",
      "source": [
        "scores = cross_val_score(pipe, X, y, scoring='f1_macro', cv=CV)\n",
        "scores"
      ],
      "metadata": {
        "colab": {
          "base_uri": "https://localhost:8080/"
        },
        "id": "8ae-WtgAFJ7I",
        "outputId": "884c3fb8-6fa2-411f-9a49-9bef8ad32ae9"
      },
      "execution_count": 11,
      "outputs": [
        {
          "output_type": "stream",
          "name": "stdout",
          "text": [
            "[Pipeline] ............ (step 1 of 3) Processing scalar, total=   0.0s\n",
            "[Pipeline] ............... (step 2 of 3) Processing pca, total=   0.4s\n",
            "[Pipeline] ......... (step 3 of 3) Processing estimator, total=   2.5s\n",
            "[Pipeline] ............ (step 1 of 3) Processing scalar, total=   0.0s\n",
            "[Pipeline] ............... (step 2 of 3) Processing pca, total=   0.4s\n",
            "[Pipeline] ......... (step 3 of 3) Processing estimator, total=   2.2s\n",
            "[Pipeline] ............ (step 1 of 3) Processing scalar, total=   0.0s\n",
            "[Pipeline] ............... (step 2 of 3) Processing pca, total=   0.3s\n",
            "[Pipeline] ......... (step 3 of 3) Processing estimator, total=   1.3s\n",
            "[Pipeline] ............ (step 1 of 3) Processing scalar, total=   0.0s\n",
            "[Pipeline] ............... (step 2 of 3) Processing pca, total=   0.2s\n",
            "[Pipeline] ......... (step 3 of 3) Processing estimator, total=   1.7s\n",
            "[Pipeline] ............ (step 1 of 3) Processing scalar, total=   0.0s\n",
            "[Pipeline] ............... (step 2 of 3) Processing pca, total=   0.2s\n",
            "[Pipeline] ......... (step 3 of 3) Processing estimator, total=   1.7s\n"
          ]
        },
        {
          "output_type": "execute_result",
          "data": {
            "text/plain": [
              "array([0.16662574, 0.16929962, 0.16599935, 0.16844527, 0.16715596])"
            ]
          },
          "metadata": {},
          "execution_count": 11
        }
      ]
    },
    {
      "cell_type": "code",
      "source": [
        "from sklearn.model_selection import cross_val_predict\n",
        "CV = 5\n",
        "\n",
        "y_pred = cross_val_predict(\n",
        "    pipe,\n",
        "    X,\n",
        "    y,\n",
        "    cv=CV,\n",
        ")"
      ],
      "metadata": {
        "colab": {
          "base_uri": "https://localhost:8080/"
        },
        "id": "quRFxQ-tFio_",
        "outputId": "37db3e12-2301-49da-9170-e368f1b1c127"
      },
      "execution_count": 12,
      "outputs": [
        {
          "output_type": "stream",
          "name": "stdout",
          "text": [
            "[Pipeline] ............ (step 1 of 3) Processing scalar, total=   0.0s\n",
            "[Pipeline] ............... (step 2 of 3) Processing pca, total=   0.3s\n",
            "[Pipeline] ......... (step 3 of 3) Processing estimator, total=   2.6s\n",
            "[Pipeline] ............ (step 1 of 3) Processing scalar, total=   0.0s\n",
            "[Pipeline] ............... (step 2 of 3) Processing pca, total=   0.2s\n",
            "[Pipeline] ......... (step 3 of 3) Processing estimator, total=   1.6s\n",
            "[Pipeline] ............ (step 1 of 3) Processing scalar, total=   0.0s\n",
            "[Pipeline] ............... (step 2 of 3) Processing pca, total=   0.2s\n",
            "[Pipeline] ......... (step 3 of 3) Processing estimator, total=   1.2s\n",
            "[Pipeline] ............ (step 1 of 3) Processing scalar, total=   0.0s\n",
            "[Pipeline] ............... (step 2 of 3) Processing pca, total=   0.3s\n",
            "[Pipeline] ......... (step 3 of 3) Processing estimator, total=   2.6s\n",
            "[Pipeline] ............ (step 1 of 3) Processing scalar, total=   0.0s\n",
            "[Pipeline] ............... (step 2 of 3) Processing pca, total=   0.4s\n",
            "[Pipeline] ......... (step 3 of 3) Processing estimator, total=   1.9s\n"
          ]
        }
      ]
    },
    {
      "cell_type": "code",
      "source": [
        "print(y_pred.shape)\n",
        "print(len(df))"
      ],
      "metadata": {
        "colab": {
          "base_uri": "https://localhost:8080/"
        },
        "id": "S-WMORRDGEVR",
        "outputId": "8ca9b5d7-476e-4ae8-8611-cc635c2196d7"
      },
      "execution_count": 18,
      "outputs": [
        {
          "output_type": "stream",
          "name": "stdout",
          "text": [
            "(100000,)\n",
            "100000\n"
          ]
        }
      ]
    },
    {
      "cell_type": "code",
      "source": [
        "cm = ConfusionMatrixDisplay(confusion_matrix=confusion_matrix(y, y_pred), display_labels=df[:len(np.unique(y_pred))])"
      ],
      "metadata": {
        "id": "M6WDFP3EGER5"
      },
      "execution_count": 21,
      "outputs": []
    },
    {
      "cell_type": "code",
      "source": [
        "cm = ConfusionMatrixDisplay(confusion_matrix=confusion_matrix(y, y_pred), display_labels=np.unique(y_pred))"
      ],
      "metadata": {
        "id": "AfBwHHItGJ23"
      },
      "execution_count": 22,
      "outputs": []
    },
    {
      "cell_type": "code",
      "source": [
        "cm.plot();"
      ],
      "metadata": {
        "colab": {
          "base_uri": "https://localhost:8080/",
          "height": 449
        },
        "id": "9Kx9Un6PGMtK",
        "outputId": "c8a7a24c-a8e3-46bc-d4aa-139cee4af7f7"
      },
      "execution_count": 20,
      "outputs": [
        {
          "output_type": "display_data",
          "data": {
            "text/plain": [
              "<Figure size 640x480 with 2 Axes>"
            ],
            "image/png": "[encoded data removed]"
          },
          "metadata": {}
        }
      ]
    },
    {
      "cell_type": "code",
      "source": [
        "import pickle\n",
        "pipe.fit(X, y)\n",
        "\n",
        "with open(\"pipe.bin\", \"wb\") as f: pickle.dump(pipe, f)"
      ],
      "metadata": {
        "colab": {
          "base_uri": "https://localhost:8080/"
        },
        "id": "XJBFO4S8GhRv",
        "outputId": "35aee4de-d288-448f-a812-165085c6ae99"
      },
      "execution_count": 23,
      "outputs": [
        {
          "output_type": "stream",
          "name": "stdout",
          "text": [
            "[Pipeline] ............ (step 1 of 3) Processing scalar, total=   0.0s\n",
            "[Pipeline] ............... (step 2 of 3) Processing pca, total=   0.3s\n",
            "[Pipeline] ......... (step 3 of 3) Processing estimator, total=   3.1s\n"
          ]
        }
      ]
    },
    {
      "cell_type": "code",
      "source": [
        "# Add dummy features to match the expected number of features\n",
        "X_pred_padded = np.pad(X_pred, (0, 6), mode='constant')\n",
        "\n",
        "# Predict probabilities using the padded data\n",
        "y_pred = _pipe.predict_proba(X_pred_padded)"
      ],
      "metadata": {
        "id": "4m6Nbyb_GuKJ"
      },
      "execution_count": 28,
      "outputs": []
    }
  ]
}