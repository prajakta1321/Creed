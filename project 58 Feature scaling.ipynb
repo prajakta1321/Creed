{
  "nbformat": 4,
  "nbformat_minor": 0,
  "metadata": {
    "colab": {
      "provenance": []
    },
    "kernelspec": {
      "name": "python3",
      "display_name": "Python 3"
    },
    "language_info": {
      "name": "python"
    }
  },
  "cells": [
    {
      "cell_type": "code",
      "execution_count": 5,
      "metadata": {
        "id": "9UjuhNIil56j"
      },
      "outputs": [],
      "source": [
        "import numpy as np\n",
        "dataset = np.array([1.0, 15.3, 30.0, 20.1, 11.1, 4.8, 6.2])"
      ]
    },
    {
      "cell_type": "code",
      "source": [
        "normalized_dataset = (dataset - min(dataset)) / (max(dataset) - min(dataset))\n",
        "normalized_dataset"
      ],
      "metadata": {
        "colab": {
          "base_uri": "https://localhost:8080/"
        },
        "id": "_WMYh6A_mQz2",
        "outputId": "89bf3ab1-7a8f-411a-ff66-d04c033d2692"
      },
      "execution_count": 6,
      "outputs": [
        {
          "output_type": "execute_result",
          "data": {
            "text/plain": [
              "array([0.        , 0.49310345, 1.        , 0.65862069, 0.34827586,\n",
              "       0.13103448, 0.17931034])"
            ]
          },
          "metadata": {},
          "execution_count": 6
        }
      ]
    },
    {
      "cell_type": "code",
      "source": [
        "normalized_dataset = (dataset - np.min(dataset)) / (np.max(dataset) - np.min(dataset))\n",
        "\n",
        "print(normalized_dataset)"
      ],
      "metadata": {
        "colab": {
          "base_uri": "https://localhost:8080/"
        },
        "id": "HYoExbgimQrs",
        "outputId": "38a7b1ee-cd99-48fa-b519-c35d491f867e"
      },
      "execution_count": 4,
      "outputs": [
        {
          "output_type": "stream",
          "name": "stdout",
          "text": [
            "[0.         0.49310345 1.         0.65862069 0.34827586 0.13103448\n",
            " 0.17931034]\n"
          ]
        }
      ]
    },
    {
      "cell_type": "code",
      "source": [
        "a = 0\n",
        "b = 1.5\n",
        "normalized_dataset = a + ((dataset - np.min(dataset)) * (b - a) / (np.max(dataset) - np.min(dataset)))\n",
        "print(normalized_dataset)"
      ],
      "metadata": {
        "colab": {
          "base_uri": "https://localhost:8080/"
        },
        "id": "DLP-jj7XmQjU",
        "outputId": "f080f372-111f-4004-8bb7-4b8aa25e9753"
      },
      "execution_count": 7,
      "outputs": [
        {
          "output_type": "stream",
          "name": "stdout",
          "text": [
            "[0.         0.73965517 1.5        0.98793103 0.52241379 0.19655172\n",
            " 0.26896552]\n"
          ]
        }
      ]
    },
    {
      "cell_type": "code",
      "source": [
        "from sklearn.preprocessing import MinMaxScaler\n",
        "dataset = dataset.reshape(-1, 1)\n",
        "\n",
        "scaler = MinMaxScaler(feature_range=(0, 10))\n",
        "\n",
        "scaler.fit(dataset)\n",
        "\n",
        "normalized_dataset = scaler.transform(dataset)\n",
        "\n",
        "print(normalized_dataset)"
      ],
      "metadata": {
        "colab": {
          "base_uri": "https://localhost:8080/"
        },
        "id": "Oxa9Hc3YmQfm",
        "outputId": "80bd216d-5414-419c-ad2d-9aff7b76581b"
      },
      "execution_count": 9,
      "outputs": [
        {
          "output_type": "stream",
          "name": "stdout",
          "text": [
            "[[ 0.        ]\n",
            " [ 4.93103448]\n",
            " [10.        ]\n",
            " [ 6.5862069 ]\n",
            " [ 3.48275862]\n",
            " [ 1.31034483]\n",
            " [ 1.79310345]]\n"
          ]
        }
      ]
    },
    {
      "cell_type": "code",
      "source": [
        "standardized_dataset = (dataset - np.mean(dataset)) / np.std(dataset)\n",
        "standardized_dataset"
      ],
      "metadata": {
        "colab": {
          "base_uri": "https://localhost:8080/"
        },
        "id": "xJAoSbjTmQcV",
        "outputId": "c7e7ded4-f16a-48e8-d2fa-e27a8db0de4b"
      },
      "execution_count": 11,
      "outputs": [
        {
          "output_type": "execute_result",
          "data": {
            "text/plain": [
              "array([[-1.25247141],\n",
              "       [ 0.2858401 ],\n",
              "       [ 1.86718131],\n",
              "       [ 0.80219641],\n",
              "       [-0.16597167],\n",
              "       [-0.84368933],\n",
              "       [-0.69308541]])"
            ]
          },
          "metadata": {},
          "execution_count": 11
        }
      ]
    }
  ]
}